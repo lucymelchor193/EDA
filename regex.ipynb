{
  "nbformat": 4,
  "nbformat_minor": 0,
  "metadata": {
    "colab": {
      "provenance": []
    },
    "kernelspec": {
      "name": "python3",
      "display_name": "Python 3"
    },
    "language_info": {
      "name": "python"
    }
  },
  "cells": [
    {
      "cell_type": "code",
      "execution_count": 1,
      "metadata": {
        "id": "umpg_VN_TaBu"
      },
      "outputs": [],
      "source": [
        "# https://docs.python.org/3/library/re.html"
      ]
    },
    {
      "cell_type": "code",
      "source": [
        "import re"
      ],
      "metadata": {
        "id": "SVcC2CduTi4I"
      },
      "execution_count": 3,
      "outputs": []
    },
    {
      "cell_type": "code",
      "source": [
        "txt1 ='need more details.confirm phone 1234567890'\n",
        "txt2 ='email ? abc@xyz.com'\n",
        "txt3='check phone number 123-456-7890'\n",
        "txt4='is the email abc@xyz.com correct?'\n",
        "txt5='Is (123)-456-7890 a good number to contact? '\n",
        "txt6='your interac email id is abc@xyz.com'"
      ],
      "metadata": {
        "id": "RDzTTphIVq-Z"
      },
      "execution_count": 4,
      "outputs": []
    },
    {
      "cell_type": "code",
      "source": [
        "pattern ='\\d{10}'\n",
        "num= re.findall(pattern,txt1)\n",
        "num"
      ],
      "metadata": {
        "colab": {
          "base_uri": "https://localhost:8080/"
        },
        "id": "caCD0lwUY2Gq",
        "outputId": "3a51598f-acc6-40ab-d7a7-7ada66a8661e"
      },
      "execution_count": 7,
      "outputs": [
        {
          "output_type": "execute_result",
          "data": {
            "text/plain": [
              "['1234567890']"
            ]
          },
          "metadata": {},
          "execution_count": 7
        }
      ]
    },
    {
      "cell_type": "code",
      "source": [
        "# Assignment Q1\n",
        "# check for 2 phone number\n",
        "# check for code in text 2 to txt6\n",
        "# create text with unique information (order # , postal code,sin# ) and extract with regex"
      ],
      "metadata": {
        "id": "k-kdf4UoZCig"
      },
      "execution_count": 8,
      "outputs": []
    },
    {
      "cell_type": "code",
      "source": [
        "pattern ='\\(\\d{3}\\)-\\d{3}-\\d{4}'\n",
        "num= re.findall(pattern,txt5)\n",
        "num"
      ],
      "metadata": {
        "colab": {
          "base_uri": "https://localhost:8080/"
        },
        "id": "X-2v6lqNZ79M",
        "outputId": "121a801c-8300-4dda-d3ba-c21361d2832c"
      },
      "execution_count": 9,
      "outputs": [
        {
          "output_type": "execute_result",
          "data": {
            "text/plain": [
              "['(123)-456-7890']"
            ]
          },
          "metadata": {},
          "execution_count": 9
        }
      ]
    },
    {
      "cell_type": "code",
      "source": [
        "## matching more than 1\n",
        "pattern ='(\\d{10}) 'or'( \\(\\d{3}\\)-\\d{3}-\\d{4}) '\n",
        "num= re.findall(pattern,txt1)\n",
        "num"
      ],
      "metadata": {
        "colab": {
          "base_uri": "https://localhost:8080/"
        },
        "id": "CAdoN1rCaxod",
        "outputId": "8705e650-70a5-4675-8059-b7b775c47789"
      },
      "execution_count": 18,
      "outputs": [
        {
          "output_type": "execute_result",
          "data": {
            "text/plain": [
              "[]"
            ]
          },
          "metadata": {},
          "execution_count": 18
        }
      ]
    },
    {
      "cell_type": "code",
      "source": [
        "\n",
        "pattern ='(\\d{10})|(\\(\\d{3}\\)-\\d{3}-\\d{4}) '\n",
        "num= re.findall(pattern,txt1)\n",
        "num"
      ],
      "metadata": {
        "colab": {
          "base_uri": "https://localhost:8080/"
        },
        "id": "I3u8y3jCbQw7",
        "outputId": "5df2d5aa-73a2-48ea-b9a7-f77449f26014"
      },
      "execution_count": 20,
      "outputs": [
        {
          "output_type": "execute_result",
          "data": {
            "text/plain": [
              "[('1234567890', '')]"
            ]
          },
          "metadata": {},
          "execution_count": 20
        }
      ]
    },
    {
      "cell_type": "code",
      "source": [
        "## defining a function"
      ],
      "metadata": {
        "id": "g1q4xinlciFh"
      },
      "execution_count": 21,
      "outputs": []
    },
    {
      "cell_type": "code",
      "source": [
        "def get_pattern_match(pattern, text):\n",
        "    matches = re.findall(pattern, text)\n",
        "    if matches:\n",
        "        return matches[0]"
      ],
      "metadata": {
        "id": "ZhDgkgjqc65g"
      },
      "execution_count": 22,
      "outputs": []
    },
    {
      "cell_type": "code",
      "source": [
        "# Phone number\n",
        "get_pattern_match('(\\d{10})|(\\(\\d{3}\\)-\\d{3}-\\d{4})',txt1)"
      ],
      "metadata": {
        "colab": {
          "base_uri": "https://localhost:8080/"
        },
        "id": "uS0AMTOFdBEE",
        "outputId": "def50b97-2923-439f-c4b0-3755f2cfb3ea"
      },
      "execution_count": 23,
      "outputs": [
        {
          "output_type": "execute_result",
          "data": {
            "text/plain": [
              "('1234567890', '')"
            ]
          },
          "metadata": {},
          "execution_count": 23
        }
      ]
    },
    {
      "cell_type": "code",
      "source": [
        "get_pattern_match('[a-zA-Z0-9_]*@[a-z]*\\.[a-zA-Z0-9]*',txt2)"
      ],
      "metadata": {
        "colab": {
          "base_uri": "https://localhost:8080/",
          "height": 35
        },
        "id": "IWB-TTrSdO_X",
        "outputId": "aed93774-6d97-42d0-b591-af4f20ed4c3c"
      },
      "execution_count": 24,
      "outputs": [
        {
          "output_type": "execute_result",
          "data": {
            "text/plain": [
              "'abc@xyz.com'"
            ],
            "application/vnd.google.colaboratory.intrinsic+json": {
              "type": "string"
            }
          },
          "metadata": {},
          "execution_count": 24
        }
      ]
    },
    {
      "cell_type": "code",
      "source": [
        "# Big text small data extraction"
      ],
      "metadata": {
        "id": "ROktNFlKdYiH"
      },
      "execution_count": 30,
      "outputs": []
    },
    {
      "cell_type": "code",
      "source": [
        "txt2 ='''\n",
        "Trudeau in 2022\n",
        "23rd Prime Minister of Canada\n",
        "Incumbent\n",
        "Assumed office\n",
        "November 4, 2015\n",
        "Monarchs\n",
        "Elizabeth II\n",
        "Charles III\n",
        "Governors General\n",
        "David Johnston\n",
        "Julie Payette\n",
        "Mary Simon\n",
        "Deputy\tChrystia Freeland[a]\n",
        "Preceded by\tStephen Harper\n",
        "Minister of Intergovernmental Affairs and Youth\n",
        "In office\n",
        "November 4, 2015 – July 18, 2018\n",
        "Preceded by\tDenis Lebel[b]\n",
        "Succeeded by\tDominic LeBlanc[c]\n",
        "Leader of the Liberal Party\n",
        "Incumbent\n",
        "Assumed office\n",
        "April 14, 2013\n",
        "Deputy\tRalph Goodale[d]\n",
        "Preceded by\tBob Rae (interim)\n",
        "Member of Parliament\n",
        "for Papineau\n",
        "Incumbent\n",
        "Assumed office\n",
        "October 14, 2008\n",
        "Preceded by\tVivian Barbot\n",
        "Personal details\n",
        "Born\tJustin Pierre James Trudeau\n",
        "December 25, 1971 (age 51)\n",
        "Ottawa, Ontario, Canada\n",
        "Political party\tLiberal\n",
        "Spouse\tSophie Grégoire\n",
        "​\n",
        "​(m. 2005; sep. 2023)​\n",
        "Children\t3\n",
        "Parents\n",
        "Pierre Trudeau (father)\n",
        "Margaret Sinclair (mother)\n",
        "Relatives\tTrudeau family\n",
        "Residences\n",
        "Rideau Cottage (primary)\n",
        "Harrington Lake (seasonal)\n",
        "Alma mater\n",
        "McGill University (BA)\n",
        "University of British Columbia (BEd)\n",
        "École Polytechnique de Montréal (no degree)\n",
        "Occupation\n",
        "Politicianteacher\n",
        "Salary\t$389,000 (2023)[1]\n",
        "Signature\tVectorized signature of Justin Trudeau.\n",
        "Website\n",
        "Government website\n",
        "Party website\n",
        "'''"
      ],
      "metadata": {
        "id": "5CAVg4-EeVDK"
      },
      "execution_count": 27,
      "outputs": []
    },
    {
      "cell_type": "code",
      "source": [
        "get_pattern_match('age (\\d+)',txt2)"
      ],
      "metadata": {
        "colab": {
          "base_uri": "https://localhost:8080/",
          "height": 35
        },
        "id": "s-sv_SIOenkS",
        "outputId": "2d1ef801-af2c-4c7c-d1fe-28a7c169d26e"
      },
      "execution_count": 28,
      "outputs": [
        {
          "output_type": "execute_result",
          "data": {
            "text/plain": [
              "'51'"
            ],
            "application/vnd.google.colaboratory.intrinsic+json": {
              "type": "string"
            }
          },
          "metadata": {},
          "execution_count": 28
        }
      ]
    },
    {
      "cell_type": "code",
      "source": [
        "# Assignment 2\n",
        "#1. Get Salary\n",
        "#2. Get political Party\n",
        "#3. Get spouse name"
      ],
      "metadata": {
        "id": "LaU0oQP0fTry"
      },
      "execution_count": 29,
      "outputs": []
    },
    {
      "cell_type": "code",
      "source": [],
      "metadata": {
        "id": "NDkqSqsYfpak"
      },
      "execution_count": null,
      "outputs": []
    }
  ]
}