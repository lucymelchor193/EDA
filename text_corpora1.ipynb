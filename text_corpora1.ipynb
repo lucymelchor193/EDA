{
  "nbformat": 4,
  "nbformat_minor": 0,
  "metadata": {
    "colab": {
      "provenance": []
    },
    "kernelspec": {
      "name": "python3",
      "display_name": "Python 3"
    },
    "language_info": {
      "name": "python"
    }
  },
  "cells": [
    {
      "cell_type": "code",
      "execution_count": 1,
      "metadata": {
        "colab": {
          "base_uri": "https://localhost:8080/"
        },
        "id": "n4GBX5TgkuBv",
        "outputId": "9355de93-2571-45dd-947a-d5c275614bba"
      },
      "outputs": [
        {
          "output_type": "stream",
          "name": "stdout",
          "text": [
            "Requirement already satisfied: nltk in /usr/local/lib/python3.10/dist-packages (3.8.1)\n",
            "Requirement already satisfied: click in /usr/local/lib/python3.10/dist-packages (from nltk) (8.1.7)\n",
            "Requirement already satisfied: joblib in /usr/local/lib/python3.10/dist-packages (from nltk) (1.3.2)\n",
            "Requirement already satisfied: regex>=2021.8.3 in /usr/local/lib/python3.10/dist-packages (from nltk) (2023.6.3)\n",
            "Requirement already satisfied: tqdm in /usr/local/lib/python3.10/dist-packages (from nltk) (4.66.1)\n"
          ]
        }
      ],
      "source": [
        "pip install nltk"
      ]
    },
    {
      "cell_type": "code",
      "source": [
        "from nltk.corpus import brown"
      ],
      "metadata": {
        "id": "k5OQg8uHk04f"
      },
      "execution_count": 2,
      "outputs": []
    },
    {
      "cell_type": "code",
      "source": [
        "brown"
      ],
      "metadata": {
        "colab": {
          "base_uri": "https://localhost:8080/"
        },
        "id": "Q2lZPsDWk8CJ",
        "outputId": "0ceaafeb-e04d-4841-8e7b-3ad420aad497"
      },
      "execution_count": 3,
      "outputs": [
        {
          "output_type": "execute_result",
          "data": {
            "text/plain": [
              "<CategorizedTaggedCorpusReader in '.../corpora/brown' (not loaded yet)>"
            ]
          },
          "metadata": {},
          "execution_count": 3
        }
      ]
    },
    {
      "cell_type": "code",
      "source": [
        "import nltk"
      ],
      "metadata": {
        "id": "KAiG6VNwk9a8"
      },
      "execution_count": 6,
      "outputs": []
    },
    {
      "cell_type": "code",
      "source": [
        "nltk.download('brown')"
      ],
      "metadata": {
        "colab": {
          "base_uri": "https://localhost:8080/"
        },
        "id": "nkL3oovmlBvN",
        "outputId": "4ebafa6e-5002-4001-8a7c-acb1518c6590"
      },
      "execution_count": 7,
      "outputs": [
        {
          "output_type": "stream",
          "name": "stderr",
          "text": [
            "[nltk_data] Downloading package brown to /root/nltk_data...\n",
            "[nltk_data]   Unzipping corpora/brown.zip.\n"
          ]
        },
        {
          "output_type": "execute_result",
          "data": {
            "text/plain": [
              "True"
            ]
          },
          "metadata": {},
          "execution_count": 7
        }
      ]
    },
    {
      "cell_type": "code",
      "source": [
        "nltk.download('gutenberg')"
      ],
      "metadata": {
        "colab": {
          "base_uri": "https://localhost:8080/"
        },
        "id": "fSo6ifSMlIrl",
        "outputId": "855da67d-12b7-4ce9-b625-d336129dfe3c"
      },
      "execution_count": 10,
      "outputs": [
        {
          "output_type": "stream",
          "name": "stderr",
          "text": [
            "[nltk_data] Downloading package gutenberg to /root/nltk_data...\n",
            "[nltk_data]   Unzipping corpora/gutenberg.zip.\n"
          ]
        },
        {
          "output_type": "execute_result",
          "data": {
            "text/plain": [
              "True"
            ]
          },
          "metadata": {},
          "execution_count": 10
        }
      ]
    },
    {
      "cell_type": "code",
      "source": [
        "a =brown.categories()\n"
      ],
      "metadata": {
        "id": "aG-uLC0JlfHs"
      },
      "execution_count": 11,
      "outputs": []
    },
    {
      "cell_type": "code",
      "source": [
        "print(a)"
      ],
      "metadata": {
        "colab": {
          "base_uri": "https://localhost:8080/"
        },
        "id": "gsqHhIrKmHtI",
        "outputId": "399baa0e-60d3-422a-e0ee-0b42d10c890d"
      },
      "execution_count": 12,
      "outputs": [
        {
          "output_type": "stream",
          "name": "stdout",
          "text": [
            "['adventure', 'belles_lettres', 'editorial', 'fiction', 'government', 'hobbies', 'humor', 'learned', 'lore', 'mystery', 'news', 'religion', 'reviews', 'romance', 'science_fiction']\n"
          ]
        }
      ]
    },
    {
      "cell_type": "code",
      "source": [
        "import pandas as pd"
      ],
      "metadata": {
        "id": "C3kSCrp2mJV3"
      },
      "execution_count": 13,
      "outputs": []
    },
    {
      "cell_type": "code",
      "source": [
        "len(a)"
      ],
      "metadata": {
        "colab": {
          "base_uri": "https://localhost:8080/"
        },
        "id": "JOKasN3rmNKT",
        "outputId": "335836eb-981b-4088-8401-7b01076f706a"
      },
      "execution_count": 14,
      "outputs": [
        {
          "output_type": "execute_result",
          "data": {
            "text/plain": [
              "15"
            ]
          },
          "metadata": {},
          "execution_count": 14
        }
      ]
    },
    {
      "cell_type": "code",
      "source": [
        "nltk.download('gutenberg')"
      ],
      "metadata": {
        "colab": {
          "base_uri": "https://localhost:8080/"
        },
        "id": "Xs4a3hKDmO1o",
        "outputId": "cca0b121-1d45-43a1-f202-332f4d7e44e0"
      },
      "execution_count": 15,
      "outputs": [
        {
          "output_type": "stream",
          "name": "stderr",
          "text": [
            "[nltk_data] Downloading package gutenberg to /root/nltk_data...\n",
            "[nltk_data]   Package gutenberg is already up-to-date!\n"
          ]
        },
        {
          "output_type": "execute_result",
          "data": {
            "text/plain": [
              "True"
            ]
          },
          "metadata": {},
          "execution_count": 15
        }
      ]
    },
    {
      "cell_type": "code",
      "source": [
        "nltk.corpus.gutenberg.fileids()"
      ],
      "metadata": {
        "colab": {
          "base_uri": "https://localhost:8080/"
        },
        "id": "NSKPPM0DmWXW",
        "outputId": "fb911e31-2302-4f33-9655-c1e9a07a0fdf"
      },
      "execution_count": 16,
      "outputs": [
        {
          "output_type": "execute_result",
          "data": {
            "text/plain": [
              "['austen-emma.txt',\n",
              " 'austen-persuasion.txt',\n",
              " 'austen-sense.txt',\n",
              " 'bible-kjv.txt',\n",
              " 'blake-poems.txt',\n",
              " 'bryant-stories.txt',\n",
              " 'burgess-busterbrown.txt',\n",
              " 'carroll-alice.txt',\n",
              " 'chesterton-ball.txt',\n",
              " 'chesterton-brown.txt',\n",
              " 'chesterton-thursday.txt',\n",
              " 'edgeworth-parents.txt',\n",
              " 'melville-moby_dick.txt',\n",
              " 'milton-paradise.txt',\n",
              " 'shakespeare-caesar.txt',\n",
              " 'shakespeare-hamlet.txt',\n",
              " 'shakespeare-macbeth.txt',\n",
              " 'whitman-leaves.txt']"
            ]
          },
          "metadata": {},
          "execution_count": 16
        }
      ]
    },
    {
      "cell_type": "code",
      "source": [
        "emma = nltk.corpus.gutenberg.words('austen-emma.txt')"
      ],
      "metadata": {
        "id": "QTx5u9IDmate"
      },
      "execution_count": 17,
      "outputs": []
    },
    {
      "cell_type": "code",
      "source": [
        "emma"
      ],
      "metadata": {
        "colab": {
          "base_uri": "https://localhost:8080/"
        },
        "id": "RRfkmhCbnZdM",
        "outputId": "83cd72c2-1a00-4480-8464-29b819e3f39b"
      },
      "execution_count": 18,
      "outputs": [
        {
          "output_type": "execute_result",
          "data": {
            "text/plain": [
              "['[', 'Emma', 'by', 'Jane', 'Austen', '1816', ']', ...]"
            ]
          },
          "metadata": {},
          "execution_count": 18
        }
      ]
    },
    {
      "cell_type": "code",
      "source": [
        "len(emma)"
      ],
      "metadata": {
        "colab": {
          "base_uri": "https://localhost:8080/"
        },
        "id": "A9hw-9vjnaHE",
        "outputId": "ae2ba0fc-8f7f-45a6-933b-d3efcfc8e143"
      },
      "execution_count": 19,
      "outputs": [
        {
          "output_type": "execute_result",
          "data": {
            "text/plain": [
              "192427"
            ]
          },
          "metadata": {},
          "execution_count": 19
        }
      ]
    },
    {
      "cell_type": "code",
      "source": [
        "emma = nltk.Text(nltk.corpus.gutenberg.words('austen-emma.txt'))\n"
      ],
      "metadata": {
        "id": "sRCIlKyyncJx"
      },
      "execution_count": 24,
      "outputs": []
    },
    {
      "cell_type": "code",
      "source": [
        "emma.concordance('jane')\n"
      ],
      "metadata": {
        "colab": {
          "base_uri": "https://localhost:8080/"
        },
        "id": "_8LxBQRhnmQ8",
        "outputId": "ad04e134-c679-47d6-948b-080e55e42b3c"
      },
      "execution_count": 27,
      "outputs": [
        {
          "output_type": "stream",
          "name": "stdout",
          "text": [
            "Displaying 25 of 301 matches:\n",
            "[ Emma by Jane Austen 1816 ] VOLUME I CHAPTER I Emm\n",
            "ghtleys together , as she does about Jane Fairfax . One is sick of the very na\n",
            "ax . One is sick of the very name of Jane Fairfax . Every letter from her is r\n",
            "of nothing else for a month . I wish Jane Fairfax very well ; but she tires me\n",
            "than Isabella ' s kind inquiry after Jane Fairfax ; and Jane Fairfax , though \n",
            "ind inquiry after Jane Fairfax ; and Jane Fairfax , though no great favourite \n",
            "in praising . \" That sweet , amiable Jane Fairfax !\" said Mrs . John Knightley\n",
            "am most happy to hear it -- but only Jane Fairfax one knows to be so very acco\n",
            " now quite safe from any letter from Jane Fairfax . The house belonged to peop\n",
            " . She had not been prepared to have Jane Fairfax succeed Mr . Elton ; but he \n",
            "o sit some time with us , talking of Jane ; for as soon as she came in , she b\n",
            "in , she began inquiring after her , Jane is so very great a favourite there .\n",
            "indness enough ; and I must say that Jane deserves it as much as any body can \n",
            " ` I know you cannot have heard from Jane lately , because it is not her time \n",
            "h a pleasure to her -- a letter from Jane -- that she can never hear it often \n",
            " all , I really must , in justice to Jane , apologise for her writing so short\n",
            "er ' s are really very good indeed . Jane often says , when she is here , ` I \n",
            "oodhouse is so obliging to say about Jane ' s handwriting ?\" And Emma had the \n",
            "ery rude , of making her escape from Jane Fairfax ' s letter , and had almost \n",
            "markable that she should always hear Jane better than she does me . Jane speak\n",
            " hear Jane better than she does me . Jane speaks so distinct ! However , she w\n",
            " was , but we shall see presently in Jane ' s letter -- wrote in Mr . Dixon ' \n",
            "raig , a beautiful place , I fancy . Jane has heard a great deal of its beauty\n",
            "e was paying his addresses -- and as Jane used to be very often walking out wi\n",
            "e , charming young man , I believe . Jane was quite longing to go to Ireland ,\n"
          ]
        }
      ]
    },
    {
      "cell_type": "code",
      "source": [],
      "metadata": {
        "id": "v-nx_Y4UoFnj"
      },
      "execution_count": null,
      "outputs": []
    }
  ]
}